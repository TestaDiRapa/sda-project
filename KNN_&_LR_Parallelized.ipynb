{
  "nbformat": 4,
  "nbformat_minor": 0,
  "metadata": {
    "colab": {
      "name": "KNN & LR - Parallelized.ipynb",
      "provenance": [],
      "collapsed_sections": []
    },
    "kernelspec": {
      "name": "python3",
      "display_name": "Python 3"
    }
  },
  "cells": [
    {
      "cell_type": "code",
      "metadata": {
        "id": "5MYIwcDnRgdQ",
        "colab_type": "code",
        "colab": {
          "base_uri": "https://localhost:8080/",
          "height": 204
        },
        "outputId": "5a85eb3e-5710-4b5d-b3ab-12397b3b4c50"
      },
      "source": [
        "# SPARK INSTALLATION\n",
        "\n",
        "!apt-get install openjdk-8-jdk-headless -qq > /dev/null\n",
        "!wget https://downloads.apache.org/spark/spark-3.0.0/spark-3.0.0-bin-hadoop2.7.tgz\n",
        "!tar xf spark-3.0.0-bin-hadoop2.7.tgz\n",
        "!pip install -q findspark"
      ],
      "execution_count": null,
      "outputs": [
        {
          "output_type": "stream",
          "text": [
            "--2020-07-09 07:08:26--  https://downloads.apache.org/spark/spark-3.0.0/spark-3.0.0-bin-hadoop2.7.tgz\n",
            "Resolving downloads.apache.org (downloads.apache.org)... 88.99.95.219, 2a01:4f8:10a:201a::2\n",
            "Connecting to downloads.apache.org (downloads.apache.org)|88.99.95.219|:443... connected.\n",
            "HTTP request sent, awaiting response... 200 OK\n",
            "Length: 220272364 (210M) [application/x-gzip]\n",
            "Saving to: ‘spark-3.0.0-bin-hadoop2.7.tgz’\n",
            "\n",
            "spark-3.0.0-bin-had 100%[===================>] 210.07M  20.0MB/s    in 12s     \n",
            "\n",
            "2020-07-09 07:08:38 (18.2 MB/s) - ‘spark-3.0.0-bin-hadoop2.7.tgz’ saved [220272364/220272364]\n",
            "\n"
          ],
          "name": "stdout"
        }
      ]
    },
    {
      "cell_type": "code",
      "metadata": {
        "id": "yReeGOPlRiaV",
        "colab_type": "code",
        "colab": {
          "base_uri": "https://localhost:8080/",
          "height": 68
        },
        "outputId": "147a302a-3a15-46c9-c67d-51046e04b4e2"
      },
      "source": [
        "# INIT STUFF OF ANY SPARK CODE\n",
        "\n",
        "import os\n",
        "os.environ[\"JAVA_HOME\"] = \"/usr/lib/jvm/java-8-openjdk-amd64\"\n",
        "os.environ[\"SPARK_HOME\"] = \"/content/spark-3.0.0-bin-hadoop2.7\"\n",
        "\n",
        "import findspark\n",
        "findspark.init()\n",
        "\n",
        "import pyspark \n",
        "conf = pyspark.SparkConf().setMaster('local[4]').setAppName('my first Spark')\n",
        "sc = pyspark.SparkContext( conf=conf )\n",
        "\n",
        "# OTHER STUFF\n",
        "import numpy as np\n",
        "import pandas as pd\n",
        "import pickle\n",
        "\n",
        "# DRIVE CONNECTION\n",
        "from google.colab import drive\n",
        "drive.mount('/content/drive/')\n",
        "os.chdir(\"/content/drive/My Drive/SDA\")\n",
        "\n",
        "# SKLEARN\n",
        "from sklearn.decomposition import PCA\n",
        "from sklearn.metrics import classification_report, confusion_matrix\n",
        "from sklearn.model_selection import train_test_split, KFold\n",
        "from sklearn.preprocessing import StandardScaler\n",
        "\n",
        "# MATPLOTLIB\n",
        "import matplotlib.pyplot as plt\n",
        "import seaborn as sns\n",
        "sns.set()"
      ],
      "execution_count": null,
      "outputs": [
        {
          "output_type": "stream",
          "text": [
            "Drive already mounted at /content/drive/; to attempt to forcibly remount, call drive.mount(\"/content/drive/\", force_remount=True).\n"
          ],
          "name": "stdout"
        },
        {
          "output_type": "stream",
          "text": [
            "/usr/local/lib/python3.6/dist-packages/statsmodels/tools/_testing.py:19: FutureWarning: pandas.util.testing is deprecated. Use the functions in the public API at pandas.testing instead.\n",
            "  import pandas.util.testing as tm\n"
          ],
          "name": "stderr"
        }
      ]
    },
    {
      "cell_type": "code",
      "metadata": {
        "id": "xfL9DC4pWG2w",
        "colab_type": "code",
        "colab": {}
      },
      "source": [
        "# PLOT FUNCTION\n",
        "\n",
        "def result_plot(X, Y_test, Y_pred):\n",
        "  plt.figure()\n",
        "  \n",
        "  plt.scatter(X, Y_test, marker='^', color='red', label='Real labels')\n",
        "  plt.scatter(X, Y_pred, color='navy', label='Estimate')\n",
        "  plt.legend(loc='upper left', bbox_to_anchor=(1, 1))\n"
      ],
      "execution_count": null,
      "outputs": []
    },
    {
      "cell_type": "code",
      "metadata": {
        "id": "vVeVChiZlH5m",
        "colab_type": "code",
        "colab": {}
      },
      "source": [
        "# DATASET IMPORT (CERVICAL CANCER)\n",
        "\n",
        "dataset = pd.read_csv(\"cervical_cancer.csv\", na_values='?')\n",
        "filter = [c for c in dataset.columns if c != 'STDs: Time since first diagnosis' and c != 'STDs: Time since last diagnosis']\n",
        "dataset = dataset[filter].dropna()\n",
        "columns = [c for c in dataset.columns if c != \"Biopsy\"]\n",
        "\n",
        "X_train, X_test, y_train, y_test = train_test_split(dataset[columns], dataset[\"Biopsy\"], test_size=0.2, random_state=42)\n",
        "D_train = np.column_stack((X_train, y_train))\n",
        "X_test = X_test.to_numpy()\n",
        "y_test = y_test.to_numpy()"
      ],
      "execution_count": null,
      "outputs": []
    },
    {
      "cell_type": "code",
      "metadata": {
        "id": "kfn3vqTc2u8z",
        "colab_type": "code",
        "colab": {}
      },
      "source": [
        "# DATASET IMPORT (BREAST CANCER)\n",
        "\n",
        "dataset = pd.read_csv(\"breast_cancer.csv\")\n",
        "filter = [c for c in dataset.columns if c != 'id' and c!= \"Unnamed: 32\"]\n",
        "dataset = dataset[filter].dropna()\n",
        "dataset = pd.get_dummies(dataset)\n",
        "filter = [c for c in dataset.columns if c != \"diagnosis_M\"]\n",
        "dataset = dataset[filter]\n",
        "columns = [c for c in dataset.columns if c != \"diagnosis_B\"]\n",
        "X = dataset[columns]\n",
        "y = dataset['diagnosis_B']"
      ],
      "execution_count": null,
      "outputs": []
    },
    {
      "cell_type": "code",
      "metadata": {
        "id": "vHevkRYvxkyK",
        "colab_type": "code",
        "colab": {}
      },
      "source": [
        "# CORRELATION FILTER < 0.6\n",
        "columns = ['radius_mean','smoothness_mean','symmetry_mean','fractal_dimension_mean', 'texture_se', 'smoothness_se', 'compactness_se','symmetry_se', 'texture_worst']\n",
        "X = X[columns]"
      ],
      "execution_count": null,
      "outputs": []
    },
    {
      "cell_type": "code",
      "metadata": {
        "id": "zYpxYSPIxsv3",
        "colab_type": "code",
        "colab": {}
      },
      "source": [
        "# CORRELATION FILTER < 0.3\n",
        "columns = ['radius_mean','smoothness_mean', 'texture_se', 'fractal_dimension_se']\n",
        "X = X[columns]"
      ],
      "execution_count": null,
      "outputs": []
    },
    {
      "cell_type": "code",
      "metadata": {
        "id": "hkek4wctMQH7",
        "colab_type": "code",
        "colab": {}
      },
      "source": [
        "# PCA\n",
        "\n",
        "scaler = StandardScaler()\n",
        "pca = PCA()\n",
        "X_pca = pca.fit_transform(scaler.fit_transform(X))\n",
        "X = X_pca[:, 0]"
      ],
      "execution_count": null,
      "outputs": []
    },
    {
      "cell_type": "code",
      "metadata": {
        "id": "AnVr8fcA_D3P",
        "colab_type": "code",
        "colab": {}
      },
      "source": [
        "# PCA PLOT\n",
        "PVE = pca.explained_variance_ratio_\n",
        "\n",
        "plt.figure(figsize=(10,10))\n",
        "plt.plot(PVE, 'b-', marker='o')\n",
        "#plt.yticks(np.linspace(0.4,1,7))\n",
        "plt.ylabel('PVE')\n",
        "plt.xlabel('Component')\n",
        "plt.title(\"PVE\")\n",
        "plt.savefig('PVE.png')\n",
        "#plt.legend(loc='best')\n",
        "plt.show()\n",
        "\n",
        "pca.components_[0]\n"
      ],
      "execution_count": null,
      "outputs": []
    },
    {
      "cell_type": "code",
      "metadata": {
        "id": "UApuDNFfOlGd",
        "colab_type": "code",
        "colab": {}
      },
      "source": [
        "# TRAIN/TEST SPLIT\n",
        "\n",
        "X_train, X_test, y_train, y_test = train_test_split(X, y, test_size=0.2, random_state=42)\n",
        "D_train = np.column_stack((X_train, y_train))\n",
        "if type(X_test) != np.ndarray:\n",
        "  X_test = X_test.to_numpy()\n",
        "\n",
        "RDD = sc.parallelize(D_train).cache()"
      ],
      "execution_count": null,
      "outputs": []
    },
    {
      "cell_type": "code",
      "metadata": {
        "id": "0_oO9tn9n7gx",
        "colab_type": "code",
        "colab": {}
      },
      "source": [
        "# MAJORITY VOTING FUNCTION\n",
        "\n",
        "def majority_voting(values):\n",
        "  counter = dict()\n",
        "  for n in values:\n",
        "    d_k = int(n[-1])\n",
        "    if d_k in counter:\n",
        "      counter[d_k] += 1\n",
        "    else:\n",
        "      counter[d_k] = 1\n",
        "  return max(counter.keys(), key=lambda k: counter[k])"
      ],
      "execution_count": null,
      "outputs": []
    },
    {
      "cell_type": "code",
      "metadata": {
        "id": "nlNtDciqSVcT",
        "colab_type": "code",
        "colab": {}
      },
      "source": [
        "# K-NN PARALLEL IMPLEMENTATION\n",
        "\n",
        "def euclidean_distance(element):\n",
        "  return ((element[:-1]-x_br.value)**2).sum()\n",
        "\n",
        "def k_nearest(data):\n",
        "  return sorted(data, key=euclidean_distance)[:k_br.value]\n",
        "\n",
        "y_pred_knn = [0, 1]\n",
        "k = 1\n",
        "knn_predictions = dict()\n",
        "while sum(y_pred_knn) != 0 and sum(y_pred_knn) != len(y_pred_knn):\n",
        "  print(k)\n",
        "  k_br = sc.broadcast(k)\n",
        "  y_pred_knn = []\n",
        "  for x in X_test:\n",
        "    x_br = sc.broadcast(x)\n",
        "    nn = k_nearest(RDD.mapPartitions(k_nearest).collect())\n",
        "    y_pred_knn.append(majority_voting(nn))\n",
        "  knn_predictions[k] = y_pred_knn\n",
        "  k += 20\n",
        "  pickle.dump(knn_predictions, open(\"knn_results_c06.roc\", \"wb\"))\n"
      ],
      "execution_count": null,
      "outputs": []
    },
    {
      "cell_type": "code",
      "metadata": {
        "id": "L0x6_WTYnyZK",
        "colab_type": "code",
        "colab": {}
      },
      "source": [
        "# LOGISTIC REGRESSION WITH SGD\n",
        "\n",
        "def sigmoid(x_i, weights):\n",
        "  y_hat = np.matmul(weights, x_i.T)\n",
        "  return 1/(1+np.exp(-y_hat))\n",
        "\n",
        "def nabla(v): \n",
        "  x = np.insert(v[:-1], 0, 1)                     \n",
        "  y = -1+2*v[-1]\n",
        "  w_dot_x = np.matmul(w_br.value,x.T)             \n",
        "  return -y*(1 - 1/(1+np.exp(-y*w_dot_x)))*x\n",
        "\n",
        "def add_nabla(a, b):\n",
        "  return a+b\n",
        "\n",
        "#iterations = [1, 10, 50, 100, 500, 1000, 2000, 3000, 5000, 10000]\n",
        "# learning_rates = [0.1, 0.3, 0.5, 0.7, 0.9]\n",
        "iterations = [10]\n",
        "learning_rates = [0.5]\n",
        "lr_predictions = dict()\n",
        "for lr in learning_rates:\n",
        "  for it in iterations:\n",
        "    print(it)\n",
        "    w = np.zeros(shape=(D_train.shape[1],))\n",
        "    w_br = sc.broadcast(w)\n",
        "    for i in range(it):\n",
        "      gradient = RDD.map(nabla).reduce(add_nabla)\n",
        "      w = w - lr * gradient//D_train[0]\n",
        "      w_br = sc.broadcast(w)\n",
        "\n",
        "    y_pred_lrd, y_pred_lrp = [], []\n",
        "    for x in X_test:\n",
        "      x_offset = np.insert(np.array(x), 0, 1)\n",
        "      y_i = sigmoid(x_offset, w)\n",
        "      y_pred_lrp.append(y_i)\n",
        "      y_pred_lrd.append(1 if y_i > 0.5 else 0)\n",
        "    lr_predictions[it] = y_pred_lrd\n",
        "    #pickle.dump(lr_predictions, open(\"lr_results_c03.roc\", \"wb\"))"
      ],
      "execution_count": null,
      "outputs": []
    },
    {
      "cell_type": "code",
      "metadata": {
        "id": "S5YcSn9zKCrm",
        "colab_type": "code",
        "colab": {
          "base_uri": "https://localhost:8080/",
          "height": 68
        },
        "outputId": "f79c114f-a90a-497b-faba-9c2e11633548"
      },
      "source": [
        "# ERROR FUNCTION PLOT\n",
        "\n",
        "def logistic_loss(w, x, y):\n",
        "  x = np.insert(x, 0, 1)                 \n",
        "  y = -1+2*y\n",
        "  w_dot_x = np.matmul(w.T,x)\n",
        "  ret = np.log(1 + np.exp(-y*w_dot_x))  \n",
        "  #ret = 1 + np.exp(-y*w_dot_x)\n",
        "  return ret\n",
        "\n",
        "x_e = np.linspace(-200, 100, 200)\n",
        "y_e = np.linspace(100, -100, 200)\n",
        "z = np.zeros((200,200))\n",
        "\n",
        "for x_i, w_x in enumerate(x_e):\n",
        "  for y_i, w_y in enumerate(y_e):\n",
        "    # print(x_i, y_i)\n",
        "    w_tmp = np.array([w_x, w_y])\n",
        "    loss_values = []\n",
        "    for x_t in D_train:\n",
        "      loss_values.append(logistic_loss(w_tmp, x_t[0:-1], x_t[1]))\n",
        "    z[x_i, y_i] = sum(loss_values)/len(loss_values)\n",
        "\n",
        "print(\"OK\")"
      ],
      "execution_count": null,
      "outputs": [
        {
          "output_type": "stream",
          "text": [
            "/usr/local/lib/python3.6/dist-packages/ipykernel_launcher.py:7: RuntimeWarning: overflow encountered in exp\n",
            "  import sys\n"
          ],
          "name": "stderr"
        },
        {
          "output_type": "stream",
          "text": [
            "OK\n"
          ],
          "name": "stdout"
        }
      ]
    },
    {
      "cell_type": "code",
      "metadata": {
        "id": "bgzAgfqnUDvz",
        "colab_type": "code",
        "colab": {
          "base_uri": "https://localhost:8080/",
          "height": 598
        },
        "outputId": "ab634ad7-2513-46d9-caea-22024644abae"
      },
      "source": [
        "X, Y = np.meshgrid(x_e, y_e)\n",
        "Z = z\n",
        "X.shape, Y.shape, Z.shape\n",
        "\n",
        "fig = plt.figure(figsize=(10,10))\n",
        "ax = plt.gca()\n",
        "cp = ax.contourf(X, Y, Z)\n",
        "# plt.scatter(-5, -49, color='white', marker='o', facecolors='none')\n",
        "fig.colorbar(cp)\n",
        "#plt.xlabel(\"Beta_offset values\")\n",
        "##ìplt.ylabel(\"Beta_1 values\")\n",
        "#.title(\"Log loss contour plot\")\n",
        "plt.savefig('log_error.png')\n"
      ],
      "execution_count": null,
      "outputs": [
        {
          "output_type": "display_data",
          "data": {
            "image/png": "[encoded data removed]",
            "text/plain": [
              "<Figure size 720x720 with 2 Axes>"
            ]
          },
          "metadata": {
            "tags": []
          }
        }
      ]
    },
    {
      "cell_type": "code",
      "metadata": {
        "id": "HU5mhSfc87LG",
        "colab_type": "code",
        "colab": {}
      },
      "source": [
        "y_pred = y_pred_lrp\n",
        "x_lr = np.linspace(-5, 12, 100)\n",
        "y_lr, y_lr_s = [], []\n",
        "for x in x_lr:\n",
        "  y_lr.append(w[0] + x*w[1])\n",
        "  x_offset = np.insert(np.array(x), 0, 1)\n",
        "  y_lr_s.append(sigmoid(x_offset, w))\n",
        "ab_y = [0.5] * 100\n",
        "\n",
        "# PLOT WITH STRAIGHT LINE\n",
        "plt.figure(figsize=(10,10))\n",
        "plt.scatter(X_test, y_test, color='navy', facecolors='none', label='Real labels')\n",
        "plt.scatter(X_test, y_pred, color='green', marker='^', facecolors='none')\n",
        "plt.plot(x_lr, y_lr_s, 'g-', label='Predicted labels')\n",
        "plt.plot(x_lr, ab_y, 'r--', label='Threshold line')\n",
        "plt.ylim((-0.1, 1.2))\n",
        "plt.legend(loc='best')\n",
        "plt.ylabel('Label')\n",
        "plt.xlabel('PCA[1]')\n",
        "plt.savefig('PCA_plot.png')"
      ],
      "execution_count": null,
      "outputs": []
    },
    {
      "cell_type": "code",
      "metadata": {
        "id": "XGGLunj7Wsug",
        "colab_type": "code",
        "colab": {}
      },
      "source": [
        "# PLOT RESULT\n",
        "\n",
        "result_plot(X_test, y_test, y_pred_knn)"
      ],
      "execution_count": null,
      "outputs": []
    },
    {
      "cell_type": "code",
      "metadata": {
        "id": "Xhx_U-MH0MSw",
        "colab_type": "code",
        "colab": {}
      },
      "source": [
        "# STAT FUNCTIONS\n",
        "\n",
        "def cf_stats_old(predictions, y_test):\n",
        "  acc, tpr, tnr = [], [], []\n",
        "  for k, p in predictions.items():\n",
        "    tn, fp, fn, tp = confusion_matrix(p, y_test).ravel()\n",
        "    print(tn, fp, fn, tp, tn/(fp+tn))\n",
        "    tpr.append(tp/(tp+fn))\n",
        "    tnr.append(tn/(fp+tn))\n",
        "    acc.append((tp+tn)/(tn+tp+fn+fp))\n",
        "  return list(predictions.keys()), acc, tpr, tnr\n",
        "\n",
        "def cf_stats(predictions, y_test):\n",
        "  acc, tpr, tnr = [], [], []\n",
        "  for k, p in predictions.items():\n",
        "    d = classification_report(y_test, p, target_names=['malignant','benignant'], output_dict=True)\n",
        "    tpr.append(d['benignant']['recall'])\n",
        "    tnr.append(d['malignant']['recall'])\n",
        "    acc.append(d['accuracy'])\n",
        "  return list(predictions.keys()), acc, tpr, tnr"
      ],
      "execution_count": null,
      "outputs": []
    },
    {
      "cell_type": "code",
      "metadata": {
        "id": "UN7xiahOqlrG",
        "colab_type": "code",
        "colab": {}
      },
      "source": [
        "# PLOT LOGISTIC REGRESSION\n",
        "\n",
        "plt.figure(figsize=(10,10))\n",
        "learning_rates = [0.1, 0.3, 0.5, 0.7, 0.9]\n",
        "styles = ['b-', 'r-', 'g-', 'c-', 'k-']\n",
        "accuracies = dict()\n",
        "for l, style in zip(learning_rates, styles):\n",
        "  it_values, lr_acc, lr_tpr, lr_fpr = cf_stats(pickle.load(open(\"lr_results_{}.roc\".format(l), \"rb\")), y_test)\n",
        "  plt.plot(it_values[:], lr_acc[:], style, label=\"LR={}\".format(l))\n",
        "\n",
        "plt.yticks(np.linspace(0.4,1,7))\n",
        "plt.ylabel('Accuracy')\n",
        "plt.xlabel('#Iterations')\n",
        "plt.legend(loc='best')\n",
        "plt.savefig('learning_rate_stats.png')"
      ],
      "execution_count": null,
      "outputs": []
    },
    {
      "cell_type": "code",
      "metadata": {
        "id": "yD16GbYV0Tg-",
        "colab_type": "code",
        "colab": {}
      },
      "source": [
        "# PLOT KNN\n",
        "\n",
        "k_values, acc_35, sn_35, sp_35 = cf_stats(pickle.load(open(\"knn_results.roc\", \"rb\")), y_test)\n",
        "k_values, acc_06, sn_06, sp_06 = cf_stats(pickle.load(open(\"knn_results_c06.roc\", \"rb\")), y_test)\n",
        "k_values, acc_03, sn_03, sp_03 = cf_stats(pickle.load(open(\"knn_results_c03.roc\", \"rb\")), y_test)\n",
        "k_values, acc_PCA, sn_PCA, sp_PCA = cf_stats(pickle.load(open(\"knn_results_PCA.roc\", \"rb\")), y_test)\n",
        "\n",
        "plt.figure(figsize=(10,10))\n",
        "plt.plot(k_values, acc_35, 'b-', label=\"Accuracy\")\n",
        "plt.plot(k_values, sn_35, 'r-', label=\"Sensitivity\")\n",
        "plt.plot(k_values, sp_35, 'g-', label=\"Specificity\")\n",
        "#plt.yticks(np.linspace(0.4,1,7))\n",
        "plt.xlabel('K')\n",
        "plt.ylabel('Performance')\n",
        "plt.legend(loc='best')\n",
        "plt.title(\"Statistiche in funzione di K\\n(tutti i predittori)\")\n",
        "plt.savefig('KNN_all_stats.png')\n",
        "\n",
        "plt.figure(figsize=(10,10))\n",
        "plt.plot(k_values, acc_35, 'b-', label=\"All predictors\")\n",
        "plt.plot(k_values, acc_06, 'r-', label=\"Corr < 0.6\")\n",
        "plt.plot(k_values, acc_03, 'g-', label=\"Corr < 0.3\")\n",
        "plt.plot(k_values, acc_PCA, 'k-', label=\"Principal component\")\n",
        "plt.yticks(np.linspace(0.4,1,7))\n",
        "plt.legend(loc='best')\n",
        "plt.title(\"Accuracy per le diverse scelte\\ndi variabili in funzione di K\")\n",
        "plt.savefig('KNN_all_acc.png')\n",
        "\n",
        "\n",
        "plt.figure(figsize=(10,10))\n",
        "plt.plot(k_values, sn_35, 'b-', label=\"All predictors\")\n",
        "plt.plot(k_values, sn_06, 'r-', label=\"Corr < 0.6\")\n",
        "plt.plot(k_values, sn_03, 'g-', label=\"Corr < 0.3\")\n",
        "plt.plot(k_values, sn_PCA, 'k-', label=\"Principal component\")\n",
        "plt.legend(loc='upper left', bbox_to_anchor=(1, 1))\n",
        "plt.title(\"Sensitivity\")\n",
        "\n",
        "plt.figure(figsize=(10,10))\n",
        "plt.plot(k_values, sp_35, 'b-', label=\"All predictors\")\n",
        "plt.plot(k_values, sp_06, 'r-', label=\"Corr < 0.6\")\n",
        "plt.plot(k_values, sp_03, 'g-', label=\"Corr < 0.3\")\n",
        "plt.plot(k_values, sp_PCA, 'k-', label=\"Principal component\")\n",
        "plt.legend(loc='upper left', bbox_to_anchor=(1, 1))\n",
        "plt.title(\"Specificity\")"
      ],
      "execution_count": null,
      "outputs": []
    },
    {
      "cell_type": "code",
      "metadata": {
        "id": "LAQ6FNDwYNko",
        "colab_type": "code",
        "colab": {}
      },
      "source": [
        "# PLOT LOGISTIC REGRESSION\n",
        "\n",
        "k_values, acc_35, sn_35, sp_35 = cf_stats(pickle.load(open(\"lr_results_0.5.roc\", \"rb\")), y_test)\n",
        "k_values, acc_06, sn_06, sp_06 = cf_stats(pickle.load(open(\"lr_results_c06.roc\", \"rb\")), y_test)\n",
        "k_values, acc_03, sn_03, sp_03 = cf_stats(pickle.load(open(\"lr_results_c03.roc\", \"rb\")), y_test)\n",
        "k_values, acc_PCA, sn_PCA, sp_PCA = cf_stats(pickle.load(open(\"lr_results_PCA.roc\", \"rb\")), y_test)\n",
        "\n",
        "plt.figure(figsize=(10,10))\n",
        "plt.plot(k_values, acc_35, 'b-', label=\"Accuracy\")\n",
        "plt.plot(k_values, sn_35, 'r-', label=\"Sensitivity\")\n",
        "plt.plot(k_values, sp_35, 'g-', label=\"Specificity\")\n",
        "#plt.yticks(np.linspace(0.4,1,7))\n",
        "plt.xlabel('#Iterations')\n",
        "plt.ylabel('Performance')\n",
        "plt.legend(loc='best')\n",
        "plt.title(\"Statistiche in funzione del numero di iterazioni\\n(tutti i predittori)\")\n",
        "plt.savefig('lr_all_stats.png')\n",
        "\n",
        "plt.figure(figsize=(10,10))\n",
        "plt.plot(k_values, acc_35, 'b-', label=\"All predictors\")\n",
        "plt.plot(k_values, acc_06, 'r-', label=\"Corr < 0.6\")\n",
        "plt.plot(k_values, acc_03, 'g-', label=\"Corr < 0.3\")\n",
        "plt.plot(k_values, acc_PCA, 'k-', label=\"Principal component\")\n",
        "plt.xlabel('#Iterations')\n",
        "plt.ylabel('Accuracy')\n",
        "plt.legend(loc='best')\n",
        "plt.title(\"Accuracy in funzione del numero di iterazioni\\n(tutti i predittori)\")\n",
        "plt.savefig('lr_all_acc.png')\n",
        "\n",
        "plt.figure(figsize=(10,10))\n",
        "plt.plot(k_values, sn_35, 'b--', label=\"All predictors\")\n",
        "plt.plot(k_values, sn_06, 'r--', label=\"Corr < 0.6\")\n",
        "plt.plot(k_values, sn_03, 'g--', label=\"Corr < 0.3\")\n",
        "plt.plot(k_values, sn_PCA, 'k--', label=\"Principal component\")\n",
        "plt.legend(loc='upper left', bbox_to_anchor=(1, 1))\n",
        "plt.title(\"Sensitivity\")\n",
        "\n",
        "plt.figure(figsize=(10,10))\n",
        "plt.plot(k_values, sp_35, 'b--', label=\"All predictors\")\n",
        "plt.plot(k_values, sp_06, 'r--', label=\"Corr < 0.6\")\n",
        "plt.plot(k_values, sp_03, 'g--', label=\"Corr < 0.3\")\n",
        "plt.plot(k_values, sp_PCA, 'k--', label=\"Principal component\")\n",
        "plt.legend(loc='upper left', bbox_to_anchor=(1, 1))\n",
        "plt.title(\"Specificity\")"
      ],
      "execution_count": null,
      "outputs": []
    },
    {
      "cell_type": "code",
      "metadata": {
        "id": "H_n_dbg1H9eH",
        "colab_type": "code",
        "colab": {}
      },
      "source": [
        "# DECISION REGION PLOT\n",
        "\n",
        "def euclidean_distance(element):\n",
        "  return ((element[:-1]-x_br.value)**2).sum()\n",
        "\n",
        "def k_nearest(data):\n",
        "  return sorted(data, key=euclidean_distance)[:k_br.value]\n",
        "\n",
        "k = 21\n",
        "b_pred = []\n",
        "k_br = sc.broadcast(k)\n",
        "knn_predictions = []\n",
        "for x in np.linspace(-5.5, 13, 100):\n",
        "  x_br = sc.broadcast(x)\n",
        "  nn = k_nearest(RDD.mapPartitions(k_nearest).collect())\n",
        "  knn_predictions.append([majority_voting(nn)]*30)\n",
        "\n",
        "\n"
      ],
      "execution_count": null,
      "outputs": []
    },
    {
      "cell_type": "code",
      "metadata": {
        "id": "M_XBeqQFFDNG",
        "colab_type": "code",
        "colab": {}
      },
      "source": [
        "y_pred = pickle.load(open(\"knn_results_PCA.roc\", \"rb\"))[21]\n",
        "plt.figure(figsize=(10,10))\n",
        "plt.ylim((-0.1,1.1))\n",
        "ax = plt.gca()\n",
        "xlim = ax.get_xlim()\n",
        "ylim = ax.get_ylim()\n",
        "yy, xx = np.meshgrid(np.linspace(ylim[0], ylim[1], 30), np.linspace(-5.5, 13, 100))\n",
        "ax.contourf(xx, yy, knn_predictions, 25, cmap=\"RdBu\", alpha=0.6, levels=[0, 0.1, 0.2, 0.4, 0.5, 0.6, 0.8, 0.9, 1], zorder=0)\n",
        "# ax.contour(y_pred)\n",
        "\n",
        "plt.scatter(X_test, y_test, color = 'black')\n",
        "plt.savefig('KNN_pca_decrig.png')\n"
      ],
      "execution_count": null,
      "outputs": []
    }
  ]
}